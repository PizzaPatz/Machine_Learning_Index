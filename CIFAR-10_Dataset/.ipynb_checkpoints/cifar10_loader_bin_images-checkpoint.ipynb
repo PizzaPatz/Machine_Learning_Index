{
 "cells": [
  {
   "cell_type": "markdown",
   "metadata": {},
   "source": [
    "### Dataset Credit: https://www.cs.toronto.edu/~kriz/cifar.html #\n",
    "### Collected by: Alex Krizhevsky, Vinod Nair, and Geoffrey Hinton. #\n"
   ]
  },
  {
   "cell_type": "code",
   "execution_count": 2,
   "metadata": {},
   "outputs": [
    {
     "name": "stdout",
     "output_type": "stream",
     "text": [
      "=========== Cifar10 Loader ===========\n",
      "\n"
     ]
    },
    {
     "data": {
      "image/png": "[encoded data removed]",
      "text/plain": [
       "<matplotlib.figure.Figure at 0x7fa5cc00acc0>"
      ]
     },
     "metadata": {},
     "output_type": "display_data"
    },
    {
     "name": "stdout",
     "output_type": "stream",
     "text": [
      "Figure 1: The 4th image of training set\n",
      "---------------------------------------\n",
      "Training Dataset:\n",
      "(Inputs, Width, Height, Channels)= (600, 32, 32, 3)\n"
     ]
    }
   ],
   "source": [
    "import sys\n",
    "import os\n",
    "import pickle\n",
    "\n",
    "import keras\n",
    "from keras.datasets import cifar10\n",
    "from keras.preprocessing.image import ImageDataGenerator\n",
    "from keras.utils import np_utils\n",
    "import matplotlib.pyplot as plt\n",
    "import progressbar as pb\n",
    "import numpy as np\n",
    "%matplotlib inline\n",
    "\n",
    "\n",
    "# Dataset downloading\n",
    "print(\"=========== Cifar10 Loader ===========\\n\")\n",
    "\n",
    "# Note: Make sure the binary file is in the same directory\n",
    "download_label = \"Dog_Cat\"\n",
    "dataset_size = \"600\"\n",
    "with open(\"training_dataset_\"+download_label+\"_\"+dataset_size+\".dat\", \"rb\") as f:\n",
    "    X_train, y_train = pickle.load(f)\n",
    "\n",
    "#####################################################################\n",
    "# Test image : Show 3rd image of the dataset                        # \n",
    "plt.subplot(111)\t\t\t\t\t\t\t\t\t \t\t\t\t#\n",
    "plt.imshow(X_train[3], cmap=plt.get_cmap('gray'))  \t\t\t\t\t#\n",
    "plt.axis('off')\t\t\t\t\t\t\t\t\t\t\t\t\t\t#\n",
    "plt.show()\t\t\t\t\t\t\t\t\t\t \t\t\t\t\t#\n",
    "print(\"Figure 1: The 4th image of training set\")\t\t\t\t\t#\n",
    "print(\"---------------------------------------\")\t\t\t\t\t#\n",
    "print(\"Training Dataset:\")\t\t\t\t\t\t\t\t\t\t\t#\n",
    "print(\"(Inputs, Width, Height, Channels)=\",np.array(X_train).shape)\t#\n",
    "#\t\t\t\t\t\t\t\t\t\t\t\t\t \t\t\t\t#\n",
    "#  You should be able to see the 3rd image in        \t\t\t\t#\n",
    "# dataset, otherwise you did something wrong. Check  \t\t\t\t#\n",
    "# directory of the binary file                       \t\t\t\t#\n",
    "#####################################################################\n",
    "\n",
    "####### Dataset has been loaded. You now can start using X_train and y_train ######"
   ]
  }
 ],
 "metadata": {
  "kernelspec": {
   "display_name": "Python 3",
   "language": "python",
   "name": "python3"
  },
  "language_info": {
   "codemirror_mode": {
    "name": "ipython",
    "version": 3
   },
   "file_extension": ".py",
   "mimetype": "text/x-python",
   "name": "python",
   "nbconvert_exporter": "python",
   "pygments_lexer": "ipython3",
   "version": "3.6.4"
  }
 },
 "nbformat": 4,
 "nbformat_minor": 2
}
