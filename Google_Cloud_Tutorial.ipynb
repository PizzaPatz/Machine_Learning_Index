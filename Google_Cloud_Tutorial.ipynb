{
 "cells": [
  {
   "cell_type": "markdown",
   "metadata": {},
   "source": [
    "# Google Cloud Tutorial\n",
    "\n",
    "### Abstract\n",
    "In machine learning, GPUs and/or CPUs are needed for model training, thus computation cost can be very expensive (literally). However, Google has provided cloud computing which allows users to utilize the processors remotely. What does it mean? It means that users will not be using their processors locally to do machine learning computation, instead, the data processing will be done at Google Cloud (or Google server) and it will not exhaust your computer at all. You can even use the $100 laptop that has an Internet connection to process thousands of dataset remotely."
   ]
  },
  {
   "cell_type": "markdown",
   "metadata": {},
   "source": [
    "![Figure1](screenshots/Google_Cloud_Tutorial/1.png)\n",
    "<center>Figure 1</center>"
   ]
  },
  {
   "cell_type": "markdown",
   "metadata": {},
   "source": [
    "#### Step 1\n",
    "First, go to https://cloud.google.com/ (Figure 1) and login with your google account"
   ]
  },
  {
   "cell_type": "markdown",
   "metadata": {},
   "source": [
    "![Figure2](screenshots/Google_Cloud_Tutorial/2.png)\n",
    "<center>Figure 2</center>"
   ]
  },
  {
   "cell_type": "markdown",
   "metadata": {},
   "source": [
    "#### Step 2\n",
    "Click \"Try For Free\" (Figure 1), then you will be prompted to agree with the policies. After you have done so, click \"Agree and continue\" (Figure 2). They may ask you for the credit card information but do not worry, this is for authentication purpose and no fee will be charged yet. In addition, Google has provided free credit for $300 initially! So you can rest assured.\n",
    "\n",
    "Then click \"Start My Free Trial\". You will be transfer to your homepage (Figure 3)"
   ]
  },
  {
   "cell_type": "markdown",
   "metadata": {},
   "source": [
    "![Figure3](screenshots/Google_Cloud_Tutorial/3.png)\n",
    "<center>Figure 3</center>"
   ]
  },
  {
   "cell_type": "markdown",
   "metadata": {},
   "source": [
    "#### Step 3\n",
    "Go to \"Compute Engine\" and select \"VM Instances\". On the main section, click \"Create Instance\".\n",
    "- Change the name as your preference\n",
    "- Change the zone to be \"us-west1-b\"\n",
    "- Change the machine cpu to \"8 vCPUs\"\n",
    "- Change the boot disk to be \"Ubuntu 16.04 LTS\"\n",
    "- Allow HTTP (and HTTPS) traffic\n",
    "\n",
    "Your configuration should match Figure 4"
   ]
  },
  {
   "cell_type": "markdown",
   "metadata": {},
   "source": [
    "![Figure](screenshots/Google_Cloud_Tutorial/4.png)\n",
    "<center>Figure 4</center>"
   ]
  },
  {
   "cell_type": "markdown",
   "metadata": {},
   "source": [
    "#### Step 4\n",
    "Install the Google Cloud SDK from https://cloud.google.com/sdk (Figure 5). Depending on operating you are using, make sure to select the correct one."
   ]
  },
  {
   "cell_type": "markdown",
   "metadata": {},
   "source": [
    "![Figure5](screenshots/Google_Cloud_Tutorial/5.png)\n",
    "<center>Figure 5</center>"
   ]
  },
  {
   "cell_type": "markdown",
   "metadata": {},
   "source": [
    "#### Step 5\n",
    "Turn on your instance by clicking \"Start\" on the top-center (Figure 6) and run following command in your command prompt."
   ]
  },
  {
   "cell_type": "raw",
   "metadata": {},
   "source": [
    "./<DIRECTORY-WHERE-GOOGLE-CLOUD-IS-INSTALLED>/bin/gcloud compute ssh --zone=us-west1-b <YOUR-INSTANCE-NAME>"
   ]
  },
  {
   "cell_type": "markdown",
   "metadata": {},
   "source": [
    "You may be prompted to setup your location, follow the instruction carefully. Once it is completed, you will be see the username has been changed (In my case, from \"Ze\" to \"cs1\", this indicate that I am now connected to Google Cloud) (Figure 7). And congratulation! You are now running the Google Cloud instance!"
   ]
  },
  {
   "cell_type": "markdown",
   "metadata": {},
   "source": [
    "### <font color='red'>IMPORTANT </font>\n",
    "Be sure to \"STOP\" the instance when you are not using it. It is <font color='red'>extremely</font> important, because by leaving your instance on without using it, the server will be running in the background and Google will count and deduct your Google Cloud's credit continuously (In this case: your $300 free credit)."
   ]
  },
  {
   "cell_type": "markdown",
   "metadata": {},
   "source": [
    "![Figure6](screenshots/Google_Cloud_Tutorial/6.png)\n",
    "<center>Figure 6</center>"
   ]
  },
  {
   "cell_type": "markdown",
   "metadata": {},
   "source": [
    "![Figure7](screenshots/Google_Cloud_Tutorial/7.png)\n",
    "<center>Figure 7</center>"
   ]
  }
 ],
 "metadata": {
  "kernelspec": {
   "display_name": "Python 3",
   "language": "python",
   "name": "python3"
  },
  "language_info": {
   "codemirror_mode": {
    "name": "ipython",
    "version": 3
   },
   "file_extension": ".py",
   "mimetype": "text/x-python",
   "name": "python",
   "nbconvert_exporter": "python",
   "pygments_lexer": "ipython3",
   "version": "3.6.4"
  }
 },
 "nbformat": 4,
 "nbformat_minor": 2
}
