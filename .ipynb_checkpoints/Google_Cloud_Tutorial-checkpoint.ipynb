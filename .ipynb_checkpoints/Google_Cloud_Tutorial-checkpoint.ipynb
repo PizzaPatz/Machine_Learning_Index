{
 "cells": [
  {
   "cell_type": "markdown",
   "metadata": {},
   "source": [
    "# Google Cloud Tutorial\n",
    "\n",
    "### Abstract\n",
    "In machine learning, GPUs and/or CPUs are needed for model training, thus computation cost can be very expensive (literally). However, Google has provided cloud computing which allows users to utilize the processors remotely. What does it mean? It means that users will not be using their processors locally to do machine learning computation, instead, the data processing will be done at Google Cloud (or Google server) and it will not exhaust your computer at all. You can even use the $100 laptop that has an Internet connection to process thousands of dataset remotely."
   ]
  },
  {
   "cell_type": "markdown",
   "metadata": {},
   "source": [
    "![Figure1](screenshots/Google_Cloud_Tutorial/1.png)\n",
    "### <div style=\"text-align:center\">Figure 1</div>"
   ]
  },
  {
   "cell_type": "markdown",
   "metadata": {},
   "source": [
    "### Google Cloud Registration"
   ]
  },
  {
   "cell_type": "markdown",
   "metadata": {},
   "source": [
    "First, go to https://cloud.google.com/ (Figure 1) and login with your google account"
   ]
  },
  {
   "cell_type": "markdown",
   "metadata": {},
   "source": [
    "![Figure2](screenshots/Google_Cloud_Tutorial/2.png)\n",
    "### <div style=\"text-align:center\">Figure 2</div>"
   ]
  },
  {
   "cell_type": "markdown",
   "metadata": {},
   "source": [
    "Click \"Try For Free\" (Figure 1), then you will be prompted to agree with the policies. After you have done so, click \"Agree and continue\" (Figure 2). They may ask you for the credit card information but do not worry, this is for authentication purpose and no fee will be charged yet. In addition, Google has provided free credit for $300 initially! So you can rest assured.\n",
    "\n",
    "Then click \"Start My Free Trial\". You will be transfer to your homepage (Figure 3)"
   ]
  },
  {
   "cell_type": "markdown",
   "metadata": {},
   "source": [
    "![Figure3](screenshots/Google_Cloud_Tutorial/3.png)\n",
    "### <div style=\"text-align:center\">Figure 3</div>"
   ]
  },
  {
   "cell_type": "markdown",
   "metadata": {},
   "source": [
    "Go to \"Compute Engine\" and select \"VM Instances\". On the main section, click \"Create Instance\".\n",
    "- Change the name as your preference\n",
    "- Change the zone to be \"us-west1-b\"\n",
    "- Change the machine cpu to \"8 vCPUs\"\n",
    "- Change the boot disk to be \"Ubuntu 16.04 LTS\"\n",
    "- Allow HTTP (and HTTPS) traffic\n",
    "\n",
    "Your configuration should match Figure 4"
   ]
  },
  {
   "cell_type": "markdown",
   "metadata": {},
   "source": [
    "![Figure](screenshots/Google_Cloud_Tutorial/4.png)\n",
    "### <div style=\"text-align:center\">Figure 4</div>"
   ]
  },
  {
   "cell_type": "markdown",
   "metadata": {},
   "source": [
    "Install the Google Cloud SDK from https://cloud.google.com/sdk (Figure 5). Depending on operating you are using, make sure to select the correct one."
   ]
  },
  {
   "cell_type": "markdown",
   "metadata": {},
   "source": [
    "![Figure5](screenshots/Google_Cloud_Tutorial/5.png)\n",
    "### <div style=\"text-align:center\">Figure 5</div>"
   ]
  },
  {
   "cell_type": "markdown",
   "metadata": {},
   "source": [
    "Turn on your instance by clicking \"Start\" on the top-center (Figure 6) and run following command in your command prompt."
   ]
  },
  {
   "cell_type": "markdown",
   "metadata": {},
   "source": [
    "- ./google-cloud-sdk/bin/gcloud compute ssh --zone=us-west1-b <YOUR-INSTANCE-NAME>"
   ]
  },
  {
   "cell_type": "markdown",
   "metadata": {},
   "source": [
    "You may be prompted to setup your location, follow the instruction carefully. Once it is completed, you will be see the username has been changed (In my case, from \"Ze\" to \"cs1\", this indicate that I am now connected to Google Cloud) (Figure 7). And congratulation! You are now running the Google Cloud instance!"
   ]
  },
  {
   "cell_type": "markdown",
   "metadata": {},
   "source": [
    "### <span style=\"color:red\">IMPORTANT </span>\n",
    "Be sure to \"STOP\" the instance when you are not using it. It is <span style=\"color:red\">extremely</span> important, because by leaving your instance on without using it, the server will be running in the background and Google will count and deduct your Google Cloud's credit continuously (In this case: your $300 free credit)."
   ]
  },
  {
   "cell_type": "markdown",
   "metadata": {},
   "source": [
    "![Figure6](screenshots/Google_Cloud_Tutorial/6.png)\n",
    "### <div style=\"text-align:center\">Figure 6</div>"
   ]
  },
  {
   "cell_type": "markdown",
   "metadata": {},
   "source": [
    "![Figure7](screenshots/Google_Cloud_Tutorial/7.png)\n",
    "### <div style=\"text-align:center\">Figure 7</div>"
   ]
  },
  {
   "cell_type": "markdown",
   "metadata": {},
   "source": [
    "### Google Cloud Configuration"
   ]
  },
  {
   "cell_type": "markdown",
   "metadata": {},
   "source": [
    "After you have completed the instance setup. Download the following files and install the essential packages (Figure 8):"
   ]
  },
  {
   "cell_type": "markdown",
   "metadata": {},
   "source": [
    "- wget https://csulb-ml.github.io/packages/setup_googlecloud.sh\n",
    "\n",
    "- wget https://csulb-ml.github.io/packages/requirements.txt\n",
    "\n",
    "- chmod +x setup_googlecloud.sh\n",
    "\n",
    "- virtualenv -p python3 .env\n",
    "\n",
    "- ./setup_googlecloud.sh"
   ]
  },
  {
   "cell_type": "markdown",
   "metadata": {},
   "source": [
    "![Figure8](screenshots/Google_Cloud_Tutorial/8.png)\n",
    "### <div style=\"text-align:center\">Figure 8</div>"
   ]
  },
  {
   "cell_type": "markdown",
   "metadata": {},
   "source": [
    "The installation process will take sometimes and you will be prompted to enter \"y\" to accept the package allocation in your instance. At the end of the installation, you should see no errors (Figure 9)"
   ]
  },
  {
   "cell_type": "markdown",
   "metadata": {},
   "source": [
    "![Figure9](screenshots/Google_Cloud_Tutorial/9.png)\n",
    "### <div style=\"text-align:center\">Figure 9</div>"
   ]
  },
  {
   "cell_type": "markdown",
   "metadata": {},
   "source": [
    "### Setup static IP address"
   ]
  },
  {
   "cell_type": "markdown",
   "metadata": {},
   "source": [
    "Go to \"Networking\" > \"VPC networks\" > \"External IP addresses\" (Figure 10)"
   ]
  },
  {
   "cell_type": "markdown",
   "metadata": {},
   "source": [
    "![Figure10](screenshots/Google_Cloud_Tutorial/10.png)\n",
    "### <div style=\"text-align:center\">Figure 10</div>"
   ]
  },
  {
   "cell_type": "markdown",
   "metadata": {},
   "source": [
    "Change the Type from \"Ephemeral\" to \"Static\", you should have something like Figure 11 page.\n",
    "\n",
    "Note: Once you have done with your instance usage, be sure to change Static back to Ephemeral because Google may charge you for unused static IP address"
   ]
  },
  {
   "cell_type": "markdown",
   "metadata": {},
   "source": [
    "![Figure11](screenshots/Google_Cloud_Tutorial/11.png)\n",
    "### <div style=\"text-align:center\">Figure 11</div>"
   ]
  },
  {
   "cell_type": "markdown",
   "metadata": {},
   "source": [
    "### Create a Firewall Rule"
   ]
  },
  {
   "cell_type": "markdown",
   "metadata": {},
   "source": [
    "Go to \"Networking\" > \"VPC Network\" > \"Firewall rules\" (Figure 12)"
   ]
  },
  {
   "cell_type": "markdown",
   "metadata": {},
   "source": [
    "![Figure12](screenshots/Google_Cloud_Tutorial/12.png)\n",
    "### <div style=\"text-align:center\">Figure 12</div>"
   ]
  },
  {
   "cell_type": "markdown",
   "metadata": {},
   "source": [
    "Click \"Create firewall rule\".\n",
    "- Name your firewall\n",
    "- Change Targets to \"All instances in the network\"\n",
    "- Source IP range to \"0.0.0.0/0\"\n",
    "- Add protocols and ports \"tcp:7000\"\n",
    "\n",
    "The setting should match Figure 13"
   ]
  },
  {
   "cell_type": "markdown",
   "metadata": {},
   "source": [
    "![Figure13](screenshots/Google_Cloud_Tutorial/13.png)\n",
    "### <div style=\"text-align:center\">Figure 13</div>"
   ]
  },
  {
   "cell_type": "markdown",
   "metadata": {},
   "source": [
    "### Configuring Jupyter Notebook\n",
    "\n",
    "Install Anaconda and Tensorflow with following commands:"
   ]
  },
  {
   "cell_type": "markdown",
   "metadata": {},
   "source": [
    "- mkdir downloads\n",
    "\n",
    "- cd downloads\n",
    "\n",
    "- wget http://repo.continuum.io/archive/Anaconda3-4.0.0-Linux-x86_64.sh\n",
    "\n",
    "- bash Anaconda3-4.0.0-Linux-x86_64.sh\n",
    "\n",
    "- source ~/.bashrc\n",
    "\n",
    "- conda install -c jjhelmus tensorflow=0.8.0rc0"
   ]
  },
  {
   "cell_type": "markdown",
   "metadata": {},
   "source": [
    "Create a Jupyter Configuration file with following command (be sure to activate the environment first) (Figure 14):"
   ]
  },
  {
   "cell_type": "markdown",
   "metadata": {},
   "source": [
    "- source .env/bin/activate\n",
    "\n",
    "- jupyter notebook --generate-config"
   ]
  },
  {
   "cell_type": "markdown",
   "metadata": {},
   "source": [
    "![Figure14](screenshots/Google_Cloud_Tutorial/14.png)\n",
    "### <div style=\"text-align:center\">Figure 14</div>"
   ]
  },
  {
   "cell_type": "markdown",
   "metadata": {},
   "source": [
    "Configure the Jupyter Notebook with:"
   ]
  },
  {
   "cell_type": "markdown",
   "metadata": {},
   "source": [
    "- sudo nano ~/.jupyter/jupyter_notebook_config.py"
   ]
  },
  {
   "cell_type": "markdown",
   "metadata": {},
   "source": [
    "Add following text at the end of the \"jupyter_notebook_config.py\" file (Figure 15):"
   ]
  },
  {
   "cell_type": "raw",
   "metadata": {},
   "source": [
    "c = get_config()\n",
    "\n",
    "c.NotebookApp.ip = '*'\n",
    "\n",
    "c.NotebookApp.open_browser = False\n",
    "\n",
    "c.NotebookApp.port = 7000"
   ]
  },
  {
   "cell_type": "markdown",
   "metadata": {},
   "source": [
    "![Figure15](screenshots/Google_Cloud_Tutorial/15.png)\n",
    "### <div style=\"text-align:center\">Figure 15</div>"
   ]
  },
  {
   "cell_type": "markdown",
   "metadata": {},
   "source": [
    "To run Jupyter, execute following command and you should see something like Figure 16:"
   ]
  },
  {
   "cell_type": "markdown",
   "metadata": {},
   "source": [
    "- jupyter-notebook --no-browser --port=7000"
   ]
  },
  {
   "cell_type": "markdown",
   "metadata": {},
   "source": [
    "![Figure16](screenshots/Google_Cloud_Tutorial/16.png)\n",
    "### <div style=\"text-align:center\">Figure 16</div>"
   ]
  },
  {
   "cell_type": "markdown",
   "metadata": {},
   "source": [
    "Then go to your browser and type your external address (from previous section), follow by \":\" and then port 7000 (Figure 17). If you see the page like in the Figure 17, that means your Jupyter Notebook is working!"
   ]
  },
  {
   "cell_type": "markdown",
   "metadata": {},
   "source": [
    "![Figure17](screenshots/Google_Cloud_Tutorial/17.png)\n",
    "### <div style=\"text-align:center\">Figure 17</div>"
   ]
  }
 ],
 "metadata": {
  "kernelspec": {
   "display_name": "Python 3",
   "language": "python",
   "name": "python3"
  },
  "language_info": {
   "codemirror_mode": {
    "name": "ipython",
    "version": 3
   },
   "file_extension": ".py",
   "mimetype": "text/x-python",
   "name": "python",
   "nbconvert_exporter": "python",
   "pygments_lexer": "ipython3",
   "version": "3.6.4"
  }
 },
 "nbformat": 4,
 "nbformat_minor": 2
}
